{
 "cells": [
  {
   "cell_type": "code",
   "execution_count": 1,
   "metadata": {},
   "outputs": [],
   "source": [
    "from transformers import DetrFeatureExtractor, DetrForObjectDetection\n",
    "import torch\n",
    "from PIL import Image\n",
    "import requests\n",
    "import shutil\n",
    "import os\n",
    "import matplotlib.pyplot as plt\n",
    "from bing_image_downloader import downloader\n",
    "import shutil"
   ]
  },
  {
   "cell_type": "code",
   "execution_count": 3,
   "metadata": {},
   "outputs": [
    {
     "name": "stdout",
     "output_type": "stream",
     "text": [
      "[%] Downloading Images to /mnt/d/DSLab/ML/EigenCars/images/cars in highway\n"
     ]
    },
    {
     "ename": "KeyboardInterrupt",
     "evalue": "",
     "output_type": "error",
     "traceback": [
      "\u001b[0;31m---------------------------------------------------------------------------\u001b[0m",
      "\u001b[0;31mKeyboardInterrupt\u001b[0m                         Traceback (most recent call last)",
      "Cell \u001b[0;32mIn[3], line 5\u001b[0m\n\u001b[1;32m      3\u001b[0m    shutil\u001b[39m.\u001b[39mrmtree(\u001b[39m\"\u001b[39m\u001b[39mimages/cars in highway\u001b[39m\u001b[39m\"\u001b[39m)\n\u001b[1;32m      4\u001b[0m os\u001b[39m.\u001b[39mmkdir(\u001b[39m\"\u001b[39m\u001b[39mimages/cars in highway\u001b[39m\u001b[39m\"\u001b[39m)\n\u001b[0;32m----> 5\u001b[0m downloader\u001b[39m.\u001b[39;49mdownload(\u001b[39m\"\u001b[39;49m\u001b[39mcars in highway\u001b[39;49m\u001b[39m\"\u001b[39;49m, limit\u001b[39m=\u001b[39;49m\u001b[39m20\u001b[39;49m,  output_dir\u001b[39m=\u001b[39;49m\u001b[39m'\u001b[39;49m\u001b[39mimages\u001b[39;49m\u001b[39m'\u001b[39;49m,\n\u001b[1;32m      6\u001b[0m                     adult_filter_off\u001b[39m=\u001b[39;49m\u001b[39mTrue\u001b[39;49;00m, force_replace\u001b[39m=\u001b[39;49m\u001b[39mFalse\u001b[39;49;00m, timeout\u001b[39m=\u001b[39;49m\u001b[39m60\u001b[39;49m, verbose\u001b[39m=\u001b[39;49m\u001b[39mFalse\u001b[39;49;00m, \u001b[39mfilter\u001b[39;49m\u001b[39m=\u001b[39;49m\u001b[39m\"\u001b[39;49m\u001b[39mphoto\u001b[39;49m\u001b[39m\"\u001b[39;49m)\n",
      "File \u001b[0;32m~/.local/lib/python3.10/site-packages/bing_image_downloader/downloader.py:38\u001b[0m, in \u001b[0;36mdownload\u001b[0;34m(query, limit, output_dir, adult_filter_off, force_replace, timeout, filter, verbose)\u001b[0m\n\u001b[1;32m     36\u001b[0m \u001b[39mprint\u001b[39m(\u001b[39m\"\u001b[39m\u001b[39m[\u001b[39m\u001b[39m%\u001b[39m\u001b[39m] Downloading Images to \u001b[39m\u001b[39m{}\u001b[39;00m\u001b[39m\"\u001b[39m\u001b[39m.\u001b[39mformat(\u001b[39mstr\u001b[39m(image_dir\u001b[39m.\u001b[39mabsolute())))\n\u001b[1;32m     37\u001b[0m bing \u001b[39m=\u001b[39m Bing(query, limit, image_dir, adult, timeout, \u001b[39mfilter\u001b[39m, verbose)\n\u001b[0;32m---> 38\u001b[0m bing\u001b[39m.\u001b[39;49mrun()\n",
      "File \u001b[0;32m~/.local/lib/python3.10/site-packages/bing_image_downloader/bing.py:112\u001b[0m, in \u001b[0;36mBing.run\u001b[0;34m(self)\u001b[0m\n\u001b[1;32m    110\u001b[0m         \u001b[39mif\u001b[39;00m \u001b[39mself\u001b[39m\u001b[39m.\u001b[39mdownload_count \u001b[39m<\u001b[39m \u001b[39mself\u001b[39m\u001b[39m.\u001b[39mlimit \u001b[39mand\u001b[39;00m link \u001b[39mnot\u001b[39;00m \u001b[39min\u001b[39;00m \u001b[39mself\u001b[39m\u001b[39m.\u001b[39mseen:\n\u001b[1;32m    111\u001b[0m             \u001b[39mself\u001b[39m\u001b[39m.\u001b[39mseen\u001b[39m.\u001b[39madd(link)\n\u001b[0;32m--> 112\u001b[0m             \u001b[39mself\u001b[39;49m\u001b[39m.\u001b[39;49mdownload_image(link)\n\u001b[1;32m    114\u001b[0m     \u001b[39mself\u001b[39m\u001b[39m.\u001b[39mpage_counter \u001b[39m+\u001b[39m\u001b[39m=\u001b[39m \u001b[39m1\u001b[39m\n\u001b[1;32m    115\u001b[0m \u001b[39mprint\u001b[39m(\u001b[39m\"\u001b[39m\u001b[39m\\n\u001b[39;00m\u001b[39m\\n\u001b[39;00m\u001b[39m[\u001b[39m\u001b[39m%\u001b[39m\u001b[39m] Done. Downloaded \u001b[39m\u001b[39m{}\u001b[39;00m\u001b[39m images.\u001b[39m\u001b[39m\"\u001b[39m\u001b[39m.\u001b[39mformat(\u001b[39mself\u001b[39m\u001b[39m.\u001b[39mdownload_count))\n",
      "File \u001b[0;32m~/.local/lib/python3.10/site-packages/bing_image_downloader/bing.py:80\u001b[0m, in \u001b[0;36mBing.download_image\u001b[0;34m(self, link)\u001b[0m\n\u001b[1;32m     76\u001b[0m \u001b[39mif\u001b[39;00m \u001b[39mself\u001b[39m\u001b[39m.\u001b[39mverbose:\n\u001b[1;32m     77\u001b[0m     \u001b[39m# Download the image\u001b[39;00m\n\u001b[1;32m     78\u001b[0m     \u001b[39mprint\u001b[39m(\u001b[39m\"\u001b[39m\u001b[39m[\u001b[39m\u001b[39m%\u001b[39m\u001b[39m] Downloading Image #\u001b[39m\u001b[39m{}\u001b[39;00m\u001b[39m from \u001b[39m\u001b[39m{}\u001b[39;00m\u001b[39m\"\u001b[39m\u001b[39m.\u001b[39mformat(\u001b[39mself\u001b[39m\u001b[39m.\u001b[39mdownload_count, link))\n\u001b[0;32m---> 80\u001b[0m \u001b[39mself\u001b[39;49m\u001b[39m.\u001b[39;49msave_image(link, \u001b[39mself\u001b[39;49m\u001b[39m.\u001b[39;49moutput_dir\u001b[39m.\u001b[39;49mjoinpath(\u001b[39m\"\u001b[39;49m\u001b[39mImage_\u001b[39;49m\u001b[39m{}\u001b[39;49;00m\u001b[39m.\u001b[39;49m\u001b[39m{}\u001b[39;49;00m\u001b[39m\"\u001b[39;49m\u001b[39m.\u001b[39;49mformat(\n\u001b[1;32m     81\u001b[0m     \u001b[39mstr\u001b[39;49m(\u001b[39mself\u001b[39;49m\u001b[39m.\u001b[39;49mdownload_count), file_type)))\n\u001b[1;32m     82\u001b[0m \u001b[39mif\u001b[39;00m \u001b[39mself\u001b[39m\u001b[39m.\u001b[39mverbose:\n\u001b[1;32m     83\u001b[0m     \u001b[39mprint\u001b[39m(\u001b[39m\"\u001b[39m\u001b[39m[\u001b[39m\u001b[39m%\u001b[39m\u001b[39m] File Downloaded !\u001b[39m\u001b[39m\\n\u001b[39;00m\u001b[39m\"\u001b[39m)\n",
      "File \u001b[0;32m~/.local/lib/python3.10/site-packages/bing_image_downloader/bing.py:58\u001b[0m, in \u001b[0;36mBing.save_image\u001b[0;34m(self, link, file_path)\u001b[0m\n\u001b[1;32m     56\u001b[0m \u001b[39mdef\u001b[39;00m \u001b[39msave_image\u001b[39m(\u001b[39mself\u001b[39m, link, file_path):\n\u001b[1;32m     57\u001b[0m     request \u001b[39m=\u001b[39m urllib\u001b[39m.\u001b[39mrequest\u001b[39m.\u001b[39mRequest(link, \u001b[39mNone\u001b[39;00m, \u001b[39mself\u001b[39m\u001b[39m.\u001b[39mheaders)\n\u001b[0;32m---> 58\u001b[0m     image \u001b[39m=\u001b[39m urllib\u001b[39m.\u001b[39;49mrequest\u001b[39m.\u001b[39;49murlopen(request, timeout\u001b[39m=\u001b[39;49m\u001b[39mself\u001b[39;49m\u001b[39m.\u001b[39;49mtimeout)\u001b[39m.\u001b[39;49mread()\n\u001b[1;32m     59\u001b[0m     \u001b[39mif\u001b[39;00m \u001b[39mnot\u001b[39;00m imghdr\u001b[39m.\u001b[39mwhat(\u001b[39mNone\u001b[39;00m, image):\n\u001b[1;32m     60\u001b[0m         \u001b[39mprint\u001b[39m(\u001b[39m'\u001b[39m\u001b[39m[Error]Invalid image, not saving \u001b[39m\u001b[39m{}\u001b[39;00m\u001b[39m\\n\u001b[39;00m\u001b[39m'\u001b[39m\u001b[39m.\u001b[39mformat(link))\n",
      "File \u001b[0;32m/usr/lib/python3.10/http/client.py:481\u001b[0m, in \u001b[0;36mHTTPResponse.read\u001b[0;34m(self, amt)\u001b[0m\n\u001b[1;32m    479\u001b[0m \u001b[39melse\u001b[39;00m:\n\u001b[1;32m    480\u001b[0m     \u001b[39mtry\u001b[39;00m:\n\u001b[0;32m--> 481\u001b[0m         s \u001b[39m=\u001b[39m \u001b[39mself\u001b[39;49m\u001b[39m.\u001b[39;49m_safe_read(\u001b[39mself\u001b[39;49m\u001b[39m.\u001b[39;49mlength)\n\u001b[1;32m    482\u001b[0m     \u001b[39mexcept\u001b[39;00m IncompleteRead:\n\u001b[1;32m    483\u001b[0m         \u001b[39mself\u001b[39m\u001b[39m.\u001b[39m_close_conn()\n",
      "File \u001b[0;32m/usr/lib/python3.10/http/client.py:630\u001b[0m, in \u001b[0;36mHTTPResponse._safe_read\u001b[0;34m(self, amt)\u001b[0m\n\u001b[1;32m    623\u001b[0m \u001b[39mdef\u001b[39;00m \u001b[39m_safe_read\u001b[39m(\u001b[39mself\u001b[39m, amt):\n\u001b[1;32m    624\u001b[0m     \u001b[39m\"\"\"Read the number of bytes requested.\u001b[39;00m\n\u001b[1;32m    625\u001b[0m \n\u001b[1;32m    626\u001b[0m \u001b[39m    This function should be used when <amt> bytes \"should\" be present for\u001b[39;00m\n\u001b[1;32m    627\u001b[0m \u001b[39m    reading. If the bytes are truly not available (due to EOF), then the\u001b[39;00m\n\u001b[1;32m    628\u001b[0m \u001b[39m    IncompleteRead exception can be used to detect the problem.\u001b[39;00m\n\u001b[1;32m    629\u001b[0m \u001b[39m    \"\"\"\u001b[39;00m\n\u001b[0;32m--> 630\u001b[0m     data \u001b[39m=\u001b[39m \u001b[39mself\u001b[39;49m\u001b[39m.\u001b[39;49mfp\u001b[39m.\u001b[39;49mread(amt)\n\u001b[1;32m    631\u001b[0m     \u001b[39mif\u001b[39;00m \u001b[39mlen\u001b[39m(data) \u001b[39m<\u001b[39m amt:\n\u001b[1;32m    632\u001b[0m         \u001b[39mraise\u001b[39;00m IncompleteRead(data, amt\u001b[39m-\u001b[39m\u001b[39mlen\u001b[39m(data))\n",
      "File \u001b[0;32m/usr/lib/python3.10/socket.py:705\u001b[0m, in \u001b[0;36mSocketIO.readinto\u001b[0;34m(self, b)\u001b[0m\n\u001b[1;32m    703\u001b[0m \u001b[39mwhile\u001b[39;00m \u001b[39mTrue\u001b[39;00m:\n\u001b[1;32m    704\u001b[0m     \u001b[39mtry\u001b[39;00m:\n\u001b[0;32m--> 705\u001b[0m         \u001b[39mreturn\u001b[39;00m \u001b[39mself\u001b[39;49m\u001b[39m.\u001b[39;49m_sock\u001b[39m.\u001b[39;49mrecv_into(b)\n\u001b[1;32m    706\u001b[0m     \u001b[39mexcept\u001b[39;00m timeout:\n\u001b[1;32m    707\u001b[0m         \u001b[39mself\u001b[39m\u001b[39m.\u001b[39m_timeout_occurred \u001b[39m=\u001b[39m \u001b[39mTrue\u001b[39;00m\n",
      "File \u001b[0;32m/usr/lib/python3.10/ssl.py:1274\u001b[0m, in \u001b[0;36mSSLSocket.recv_into\u001b[0;34m(self, buffer, nbytes, flags)\u001b[0m\n\u001b[1;32m   1270\u001b[0m     \u001b[39mif\u001b[39;00m flags \u001b[39m!=\u001b[39m \u001b[39m0\u001b[39m:\n\u001b[1;32m   1271\u001b[0m         \u001b[39mraise\u001b[39;00m \u001b[39mValueError\u001b[39;00m(\n\u001b[1;32m   1272\u001b[0m           \u001b[39m\"\u001b[39m\u001b[39mnon-zero flags not allowed in calls to recv_into() on \u001b[39m\u001b[39m%s\u001b[39;00m\u001b[39m\"\u001b[39m \u001b[39m%\u001b[39m\n\u001b[1;32m   1273\u001b[0m           \u001b[39mself\u001b[39m\u001b[39m.\u001b[39m\u001b[39m__class__\u001b[39m)\n\u001b[0;32m-> 1274\u001b[0m     \u001b[39mreturn\u001b[39;00m \u001b[39mself\u001b[39;49m\u001b[39m.\u001b[39;49mread(nbytes, buffer)\n\u001b[1;32m   1275\u001b[0m \u001b[39melse\u001b[39;00m:\n\u001b[1;32m   1276\u001b[0m     \u001b[39mreturn\u001b[39;00m \u001b[39msuper\u001b[39m()\u001b[39m.\u001b[39mrecv_into(buffer, nbytes, flags)\n",
      "File \u001b[0;32m/usr/lib/python3.10/ssl.py:1130\u001b[0m, in \u001b[0;36mSSLSocket.read\u001b[0;34m(self, len, buffer)\u001b[0m\n\u001b[1;32m   1128\u001b[0m \u001b[39mtry\u001b[39;00m:\n\u001b[1;32m   1129\u001b[0m     \u001b[39mif\u001b[39;00m buffer \u001b[39mis\u001b[39;00m \u001b[39mnot\u001b[39;00m \u001b[39mNone\u001b[39;00m:\n\u001b[0;32m-> 1130\u001b[0m         \u001b[39mreturn\u001b[39;00m \u001b[39mself\u001b[39;49m\u001b[39m.\u001b[39;49m_sslobj\u001b[39m.\u001b[39;49mread(\u001b[39mlen\u001b[39;49m, buffer)\n\u001b[1;32m   1131\u001b[0m     \u001b[39melse\u001b[39;00m:\n\u001b[1;32m   1132\u001b[0m         \u001b[39mreturn\u001b[39;00m \u001b[39mself\u001b[39m\u001b[39m.\u001b[39m_sslobj\u001b[39m.\u001b[39mread(\u001b[39mlen\u001b[39m)\n",
      "\u001b[0;31mKeyboardInterrupt\u001b[0m: "
     ]
    }
   ],
   "source": [
    "# Get images of cars in traffic\n",
    "if os.path.exists(\"images/cars in highway\"):\n",
    "   shutil.rmtree(\"images/cars in highway\")\n",
    "os.mkdir(\"images/cars in highway\")\n",
    "downloader.download(\"cars in highway\", limit=20,  output_dir='images',\n",
    "                    adult_filter_off=True, force_replace=False, timeout=60, verbose=False, filter=\"photo\")\n"
   ]
  },
  {
   "cell_type": "code",
   "execution_count": 43,
   "metadata": {},
   "outputs": [],
   "source": [
    "# function to detect cars in a given image\n",
    "def detect_cars(image_path, confidence=0.9, threshold=32):\n",
    "\timage=Image.open(image_path)\n",
    "\tfeature_extractor = DetrFeatureExtractor.from_pretrained(\n",
    "\t\t\t\"facebook/detr-resnet-50\")\n",
    "\tmodel = DetrForObjectDetection.from_pretrained(\"facebook/detr-resnet-50\")\n",
    "\n",
    "\tinputs = feature_extractor(images=image, return_tensors=\"pt\")\n",
    "\toutputs = model(**inputs)\n",
    "\n",
    "\t# convert outputs (bounding boxes and class logits) to COCO API\n",
    "\ttarget_sizes = torch.tensor([image.size[::-1]])\n",
    "\tresults = feature_extractor.post_process(outputs, target_sizes=target_sizes)[0]\n",
    "\n",
    "\t# let's only keep detections with score > confidence\n",
    "\trects=[]\n",
    "\tfor score, label, box in zip(results[\"scores\"], results[\"labels\"], results[\"boxes\"]):\n",
    "\t\t\tbox = [round(i, 2) for i in box.tolist()]\n",
    "\t\t\tif score > confidence:\n",
    "\t\t\t\t# check if rect is larger than threshold number of pixels in both dimensions\n",
    "\t\t\t\tif (box[2]-box[0])>threshold and (box[3]-box[1])>threshold:\n",
    "\t\t\t\t\trects.append(box)\n",
    "\treturn rects"
   ]
  },
  {
   "cell_type": "code",
   "execution_count": 44,
   "metadata": {},
   "outputs": [],
   "source": [
    "# function to create new cropped images of cars\n",
    "def crop_cars(image_path,index):\n",
    "  rects=detect_cars(image_path)\n",
    "  image=Image.open(image_path)\n",
    "  for i, rect in enumerate(rects):\n",
    "    x1, y1, x2, y2 = rect\n",
    "    car = image.crop((x1, y1, x2, y2))\n",
    "    # create a new image with the car\n",
    "    if not os.path.exists(\"./cars\"):\n",
    "      os.mkdir(\"cars\")\n",
    "    car.save(\"./cars/\"+str(index)+\"_\"+str(i)+\".png\")"
   ]
  },
  {
   "cell_type": "code",
   "execution_count": 45,
   "metadata": {},
   "outputs": [
    {
     "name": "stderr",
     "output_type": "stream",
     "text": [
      "/home/abishek/.local/lib/python3.10/site-packages/transformers/models/detr/image_processing_detr.py:773: FutureWarning: The `max_size` parameter is deprecated and will be removed in v4.26. Please specify in `size['longest_edge'] instead`.\n",
      "  warnings.warn(\n",
      "/home/abishek/.local/lib/python3.10/site-packages/transformers/models/detr/image_processing_detr.py:1236: FutureWarning: `post_process` is deprecated and will be removed in v5 of Transformers, please use `post_process_object_detection`\n",
      "  warnings.warn(\n"
     ]
    }
   ],
   "source": [
    "# loop through all images in the images folder\n",
    "for image_path in os.listdir(\"images/cars in highway\"):\n",
    "  crop_cars(\"images/cars in highway/\"+image_path, image_path)"
   ]
  },
  {
   "cell_type": "code",
   "execution_count": 46,
   "metadata": {},
   "outputs": [
    {
     "name": "stdout",
     "output_type": "stream",
     "text": [
      "[%] Downloading Images to /mnt/d/DSLab/ML/EigenCars/images/people in streets\n",
      "[!] Issue getting: https://dm0qx8t0i9gc9.cloudfront.net/thumbnails/video/D8qa-2E/large-group-of-people-crossing-crowded-city-street-new-york-scenery_hhobtpsw_thumbnail-1080_01.png\n",
      "[!] Error:: <urlopen error _ssl.c:980: The handshake operation timed out>\n",
      "[!] Issue getting: https://dm0qx8t0i9gc9.cloudfront.net/thumbnails/video/D8qa-2E/diverse-people-crossing-street-in-new-york-city_shmhurjd_thumbnail-1080_01.png\n",
      "[!] Error:: <urlopen error _ssl.c:980: The handshake operation timed out>\n",
      "[!] Issue getting: https://dm0qx8t0i9gc9.cloudfront.net/thumbnails/video/D8qa-2E/new-york-city-streets-scene-crowd-of-business-people-commuting-background_rbqhd0jv_thumbnail-1080_02.png\n",
      "[!] Error:: <urlopen error _ssl.c:980: The handshake operation timed out>\n",
      "\n",
      "\n",
      "[%] Done. Downloaded 20 images.\n"
     ]
    }
   ],
   "source": [
    "# Get images of people in traffic\n",
    "if os.path.exists(\"images/people in streets\"):\n",
    "   shutil.rmtree(\"images/people in streets\")\n",
    "os.mkdir(\"images/people in streets\")\n",
    "downloader.download(\"people in streets\", limit=20,  output_dir='images',\n",
    "                    adult_filter_off=True, force_replace=False, timeout=60, verbose=False, filter=\"photo\")\n"
   ]
  }
 ],
 "metadata": {
  "kernelspec": {
   "display_name": "Python 3",
   "language": "python",
   "name": "python3"
  },
  "language_info": {
   "codemirror_mode": {
    "name": "ipython",
    "version": 3
   },
   "file_extension": ".py",
   "mimetype": "text/x-python",
   "name": "python",
   "nbconvert_exporter": "python",
   "pygments_lexer": "ipython3",
   "version": "3.10.6"
  },
  "orig_nbformat": 4,
  "vscode": {
   "interpreter": {
    "hash": "916dbcbb3f70747c44a77c7bcd40155683ae19c65e1c03b4aa3499c5328201f1"
   }
  }
 },
 "nbformat": 4,
 "nbformat_minor": 2
}
